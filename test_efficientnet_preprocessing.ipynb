{
 "cells": [
  {
   "cell_type": "markdown",
   "id": "379836e3",
   "metadata": {},
   "source": [
    "# EfficientNet Preprocessing Investigation\n",
    "\n",
    "This notebook investigates what EfficientNet's `preprocess_input` function actually does to understand if we need mean/std normalization."
   ]
  },
  {
   "cell_type": "code",
   "execution_count": null,
   "id": "b17f60d8",
   "metadata": {},
   "outputs": [],
   "source": [
    "# Import Required Libraries\n",
    "import tensorflow as tf\n",
    "from tensorflow.keras.applications.efficientnet import preprocess_input\n",
    "import numpy as np\n",
    "import matplotlib.pyplot as plt\n",
    "\n",
    "print(f\"TensorFlow version: {tf.__version__}\")"
   ]
  },
  {
   "cell_type": "code",
   "execution_count": null,
   "id": "ad2e706c",
   "metadata": {},
   "outputs": [],
   "source": [
    "# Load Dataset - Create a simple test image\n",
    "# Create a test image array [224, 224, 3] with values in [0, 255] range\n",
    "test_image_255 = np.random.randint(0, 256, (224, 224, 3), dtype=np.uint8)\n",
    "test_image_float = test_image_255.astype(np.float32)\n",
    "\n",
    "print(f\"Test image shape: {test_image_255.shape}\")\n",
    "print(f\"Test image dtype: {test_image_255.dtype}\")\n",
    "print(f\"Test image range: {test_image_255.min()} to {test_image_255.max()}\")"
   ]
  },
  {
   "cell_type": "code",
   "execution_count": null,
   "id": "4109f60a",
   "metadata": {},
   "outputs": [],
   "source": [
    "# Check Preprocessing Steps - Test what preprocess_input actually does\n",
    "\n",
    "# Method 1: Direct preprocessing on [0,255] range\n",
    "print(\"=== Method 1: Direct preprocess_input on [0,255] ===\")\n",
    "processed_255 = preprocess_input(test_image_float.copy())\n",
    "print(f\"Input range: {test_image_float.min():.3f} to {test_image_float.max():.3f}\")\n",
    "print(f\"Output range: {processed_255.min():.3f} to {processed_255.max():.3f}\")\n",
    "print(f\"Output mean: {processed_255.mean():.3f}\")\n",
    "print(f\"Output std: {processed_255.std():.3f}\")\n",
    "\n",
    "# Method 2: Normalize to [0,1] first, then preprocess_input\n",
    "print(\"\\n=== Method 2: Normalize to [0,1] then preprocess_input ===\")\n",
    "normalized_01 = test_image_float / 255.0\n",
    "processed_from_01 = preprocess_input(normalized_01 * 255.0)\n",
    "print(f\"Input range: {normalized_01.min():.3f} to {normalized_01.max():.3f}\")\n",
    "print(f\"After *255: {(normalized_01 * 255.0).min():.3f} to {(normalized_01 * 255.0).max():.3f}\")\n",
    "print(f\"Output range: {processed_from_01.min():.3f} to {processed_from_01.max():.3f}\")\n",
    "print(f\"Output mean: {processed_from_01.mean():.3f}\")\n",
    "print(f\"Output std: {processed_from_01.std():.3f}\")\n",
    "\n",
    "# Method 3: Just normalize to [0,1] (no preprocess_input)\n",
    "print(\"\\n=== Method 3: Simple [0,1] normalization only ===\")\n",
    "simple_normalized = test_image_float / 255.0\n",
    "print(f\"Output range: {simple_normalized.min():.3f} to {simple_normalized.max():.3f}\")\n",
    "print(f\"Output mean: {simple_normalized.mean():.3f}\")\n",
    "print(f\"Output std: {simple_normalized.std():.3f}\")"
   ]
  },
  {
   "cell_type": "code",
   "execution_count": null,
   "id": "dcb037cb",
   "metadata": {},
   "outputs": [],
   "source": [
    "# Verify Mean and Standard Deviation Usage\n",
    "# Let's test with a known image to see exactly what preprocess_input does\n",
    "\n",
    "# Create test image with known values\n",
    "test_values = np.array([[[100, 150, 200]]], dtype=np.float32)  # Single pixel\n",
    "print(f\"Original pixel values: {test_values[0,0]}\")\n",
    "\n",
    "# Apply preprocess_input\n",
    "processed_values = preprocess_input(test_values.copy())\n",
    "print(f\"After preprocess_input: {processed_values[0,0]}\")\n",
    "\n",
    "# Manual calculation to see if it matches ImageNet normalization\n",
    "# ImageNet mean: [123.675, 116.28, 103.53]\n",
    "# ImageNet std: [58.395, 57.12, 57.375]\n",
    "imagenet_mean = np.array([123.675, 116.28, 103.53])\n",
    "imagenet_std = np.array([58.395, 57.12, 57.375])\n",
    "\n",
    "manual_normalized = (test_values[0,0] - imagenet_mean) / imagenet_std\n",
    "print(f\"Manual ImageNet normalization: {manual_normalized}\")\n",
    "\n",
    "# Test if they match\n",
    "matches_imagenet = np.allclose(processed_values[0,0], manual_normalized, rtol=1e-3)\n",
    "print(f\"Does preprocess_input match ImageNet normalization? {matches_imagenet}\")\n",
    "\n",
    "# Test if it's just [0,1] normalization  \n",
    "simple_norm = test_values[0,0] / 255.0\n",
    "matches_simple = np.allclose(processed_values[0,0], simple_norm, rtol=1e-3)\n",
    "print(f\"Does preprocess_input match simple [0,1] normalization? {matches_simple}\")"
   ]
  },
  {
   "cell_type": "markdown",
   "id": "4bb2e5d8",
   "metadata": {},
   "source": [
    "## Conclusion\n",
    "\n",
    "This notebook tests what EfficientNet's `preprocess_input` function actually does:\n",
    "\n",
    "1. **If it uses ImageNet normalization**: (pixel - mean) / std\n",
    "2. **If it's just simple normalization**: pixel / 255.0  \n",
    "3. **Or something else entirely**\n",
    "\n",
    "The results will help us understand why our Flutter app classifies everything as cardboard!"
   ]
  }
 ],
 "metadata": {
  "language_info": {
   "name": "python"
  }
 },
 "nbformat": 4,
 "nbformat_minor": 5
}
